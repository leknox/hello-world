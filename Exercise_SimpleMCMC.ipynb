{
 "cells": [
  {
   "cell_type": "code",
   "execution_count": 312,
   "metadata": {
    "collapsed": true
   },
   "outputs": [],
   "source": [
    "import numpy as np\n",
    "import copy\n",
    "import matplotlib.pyplot as plt\n",
    "import matplotlib.cm as cm"
   ]
  },
  {
   "cell_type": "code",
   "execution_count": 325,
   "metadata": {},
   "outputs": [],
   "source": [
    "def gen1(chain_element):\n",
    "#creates new location in parameter space by taking step from current one (in chain_element)\n",
    "#based on increment from the generate function\n",
    "    scale=1.0\n",
    "    cov=np.array([[1.,0.],[0.,1.]])\n",
    "    step=generate(cov,scale)\n",
    "    chain_new=copy.deepcopy(chain_element)\n",
    " #   print 'chain_element is',type(chain_element)\n",
    " #   print 'chain_new is', type(chain_new)\n",
    "    chain_new['length']+=step[0]\n",
    "    chain_new['width']+=step[1]\n",
    "    return chain_new\n",
    "\n",
    "def generate(cov,scale=1.0):\n",
    "#This function returns an array of Gaussian random numbers from\n",
    "#a normal distribution with zero mean and covariance, scale^2*cov\n",
    "    w,v = np.linalg.eig(cov)\n",
    "    x=np.sqrt(w)*np.random.normal(0.0,1.0,w.size)\n",
    "    res=np.zeros((w.size),float)\n",
    "    for i in range(0,w.size):\n",
    "        for alpha in range(0,w.size):\n",
    "            res[alpha]=res[alpha]+v[alpha,i]*x[i]\n",
    "    return scale*res"
   ]
  },
  {
   "cell_type": "code",
   "execution_count": 175,
   "metadata": {},
   "outputs": [
    {
     "data": {
      "text/plain": [
       "{'area': array([ 76.65]),\n",
       " 'length': array([ 6.09539288]),\n",
       " 'lnlike': array([ 0.]),\n",
       " 'width': array([ 12.8512126])}"
      ]
     },
     "execution_count": 175,
     "metadata": {},
     "output_type": "execute_result"
    }
   ],
   "source": [
    "##Test gen1\n",
    "chain_element=gen1(chain_init)\n",
    "chain_element\n"
   ]
  },
  {
   "cell_type": "code",
   "execution_count": 165,
   "metadata": {
    "collapsed": true
   },
   "outputs": [],
   "source": [
    "def generate_test(nsamp,cov):\n",
    "#draw nsamp samples from generate with covariance matrix cov and default scale\n",
    "    mat=np.zeros(cov.shape[1],float)\n",
    "    for i in range(0,nsamp):\n",
    "        samp=generate(cov)\n",
    "        mat=mat+np.outer(samp,samp)\n",
    "    return mat/nsamp\n",
    "        "
   ]
  },
  {
   "cell_type": "code",
   "execution_count": 43,
   "metadata": {},
   "outputs": [
    {
     "data": {
      "text/plain": [
       "array([[ 2.,  1.],\n",
       "       [ 1.,  2.]])"
      ]
     },
     "execution_count": 43,
     "metadata": {},
     "output_type": "execute_result"
    }
   ],
   "source": [
    "cov\n"
   ]
  },
  {
   "cell_type": "code",
   "execution_count": 120,
   "metadata": {
    "collapsed": true
   },
   "outputs": [],
   "source": [
    "res=generate_test(10000,cov)"
   ]
  },
  {
   "cell_type": "code",
   "execution_count": 121,
   "metadata": {},
   "outputs": [
    {
     "name": "stdout",
     "output_type": "stream",
     "text": [
      "[[ 2.06856383  1.02510738]\n",
      " [ 1.02510738  2.00978906]]\n"
     ]
    }
   ],
   "source": [
    "print res\n"
   ]
  },
  {
   "cell_type": "code",
   "execution_count": 254,
   "metadata": {
    "collapsed": true
   },
   "outputs": [],
   "source": [
    "def lnlike1(d,chain_element):\n",
    "    m=np.array([chain_element['length'][0],chain_element['width'][0]])\n",
    "    cov = np.array([[1.0,0.0],[0.,1.]])\n",
    "    return gausslike(d,m,cov)\n",
    "    \n",
    "\n",
    "def gausslike(d,m,cov):\n",
    "#simple Gaussian likelihood where \n",
    "#d = data array (e.g., measurement of length and a measurement of width),\n",
    "#m = model parameters (.e.g, true length and true width), and\n",
    "#cov = error covariance mtrix\n",
    "    weight=np.linalg.inv(cov)\n",
    "    lnlike=-np.inner(d-m,np.inner(weight,d-m))\n",
    "    return lnlike"
   ]
  },
  {
   "cell_type": "code",
   "execution_count": 371,
   "metadata": {},
   "outputs": [],
   "source": [
    "#create 2D likelihood grid\n",
    "d=np.array([7.,10.])\n",
    "length=np.arange(4.,10.,0.1)\n",
    "width=np.arange(7.,13.,0.1)\n",
    "lnlike=np.zeros((width.size,length.size),float)\n",
    "chain_in={'length':np.zeros(1),'width':np.zeros(1)}\n",
    "for i in range(0,length.size-1):\n",
    "    chain_in['length']=np.array([length[i]])\n",
    "    for j in range(0,width.size-1):\n",
    "        chain_in['width']=np.array([width[j]])\n",
    "        lnlike[j,i]=lnlike1(d,chain_in)\n"
   ]
  },
  {
   "cell_type": "code",
   "execution_count": 375,
   "metadata": {},
   "outputs": [
    {
     "data": {
      "image/png": "[encoded data removed]",
      "text/plain": [
       "<matplotlib.figure.Figure at 0x109aa7f90>"
      ]
     },
     "metadata": {},
     "output_type": "display_data"
    }
   ],
   "source": [
    "#plot the 2D likelihood grid as shaded contour plot\n",
    "fig = plt.figure()\n",
    "ax = fig.add_subplot(111)\n",
    "\n",
    "# Reversed Greys colourmap for filled contours\n",
    "cpf = ax.contourf(length,width,np.exp(lnlike), 4, cmap=cm.Greys_r)\n",
    "# Set the colours of the contours and labels so they're white where the\n",
    "# contour fill is dark (Z < 0) and black where it's light (Z >= 0)\n",
    "colours = ['w' if level<0 else 'k' for level in cpf.levels]\n",
    "cp = ax.contour(length, width, np.exp(lnlike), 4, colors=colours)\n",
    "ax.clabel(cp, fontsize=12, colors=colours)\n",
    "plt.show()"
   ]
  },
  {
   "cell_type": "code",
   "execution_count": 286,
   "metadata": {},
   "outputs": [
    {
     "data": {
      "text/plain": [
       "['width', 'length', 'area', 'lnlike']"
      ]
     },
     "execution_count": 286,
     "metadata": {},
     "output_type": "execute_result"
    }
   ],
   "source": [
    "chain_init={'length':np.array([10.5]), 'width':np.array([7.3]),'lnlike':np.array([0.])}\n",
    "chain_init['area']=chain_init['length']*chain_init['width']\n",
    "chain=chain_init\n",
    "list(chain)"
   ]
  },
  {
   "cell_type": "code",
   "execution_count": 65,
   "metadata": {},
   "outputs": [
    {
     "data": {
      "text/plain": [
       "array([ 76.65])"
      ]
     },
     "execution_count": 65,
     "metadata": {},
     "output_type": "execute_result"
    }
   ],
   "source": [
    "chain['area']"
   ]
  },
  {
   "cell_type": "code",
   "execution_count": 125,
   "metadata": {},
   "outputs": [
    {
     "data": {
      "text/plain": [
       "{'area': array([ 76.65]),\n",
       " 'length': array([ 10.5]),\n",
       " 'lnlike': array([ 0.]),\n",
       " 'width': array([ 7.3])}"
      ]
     },
     "execution_count": 125,
     "metadata": {},
     "output_type": "execute_result"
    }
   ],
   "source": [
    "chain\n"
   ]
  },
  {
   "cell_type": "code",
   "execution_count": 255,
   "metadata": {},
   "outputs": [],
   "source": [
    "d=np.array([10.0,7.0])"
   ]
  },
  {
   "cell_type": "code",
   "execution_count": 326,
   "metadata": {},
   "outputs": [],
   "source": [
    "def chain_update(d,like,gen,chain):\n",
    "#increments the chain by 1 element by taking a step (or not) using metropolis hastings algorithm\n",
    "#d = data array\n",
    "#like = name of the log likelihood function (e.g. lnlike1)\n",
    "#gen: trial step generating function\n",
    "#chain: dictionary holding arrays of parameter values, likelihood, and derived parameter values\n",
    "    reject=0 #increments to 1 if rejected\n",
    "    nchainelements=chain[list(chain)[0]].size  #number of parameter space locations in chain\n",
    "    chainlast={}                            #new chain that will hold just hte last location in parameter space\n",
    "    for string in list(chain):\n",
    "#        print string, chain[string].size\n",
    "        chainlast[string]=np.array([chain[string][-1]])\n",
    "    lnlike_current=like(d,chainlast)\n",
    "#    print 'linlike_current is', lnlike_current\n",
    "    location_proposed=gen(chainlast)\n",
    "    lnlike_proposed=like(d,location_proposed)\n",
    "#    print 'linlike_proposed is', lnlike_proposed\n",
    "\n",
    "    if lnlike_proposed >= lnlike_current:\n",
    "        location_new = location_proposed\n",
    "        location_new['lnlike']=np.array([lnlike_proposed])\n",
    " #       print 'accepted'\n",
    "    else:\n",
    "        alpha= np.exp(lnlike_proposed-lnlike_current)\n",
    "#        print 'alpha is', alpha\n",
    "        if np.random.uniform(0,1) < alpha :\n",
    "            location_new = location_proposed\n",
    "            location_new['lnlike']=np.array([lnlike_proposed])\n",
    " #           print 'accepted'\n",
    "        else:\n",
    "            location_new=chainlast\n",
    "            location_new['lnlike']=np.array([lnlike_current])\n",
    "            reject=1\n",
    " #           print 'rejected'\n",
    "#    print location_new\n",
    "#    print 'chainlast:', chainlast\n",
    "    for string in list(chain):\n",
    "        chain[string]=np.append(chain[string],location_new[string])\n",
    "#    print 'new chain is', chain \n",
    "    return reject\n",
    "    "
   ]
  },
  {
   "cell_type": "code",
   "execution_count": 251,
   "metadata": {
    "scrolled": true
   },
   "outputs": [
    {
     "data": {
      "text/plain": [
       "2"
      ]
     },
     "execution_count": 251,
     "metadata": {},
     "output_type": "execute_result"
    }
   ],
   "source": [
    "chain[list(chain)[0]].size"
   ]
  },
  {
   "cell_type": "code",
   "execution_count": 289,
   "metadata": {},
   "outputs": [
    {
     "data": {
      "text/plain": [
       "{'area': array([ 76.65,  76.65,  76.65]),\n",
       " 'length': array([ 10.5       ,   9.08734307,   8.83297388]),\n",
       " 'lnlike': array([ 0.        , -0.34      , -0.83914114]),\n",
       " 'width': array([ 7.3       ,  7.07873034,  7.69404111])}"
      ]
     },
     "execution_count": 289,
     "metadata": {},
     "output_type": "execute_result"
    }
   ],
   "source": [
    "chain"
   ]
  },
  {
   "cell_type": "code",
   "execution_count": 327,
   "metadata": {},
   "outputs": [
    {
     "data": {
      "text/plain": [
       "0.42290000000000005"
      ]
     },
     "execution_count": 327,
     "metadata": {},
     "output_type": "execute_result"
    }
   ],
   "source": [
    "d=np.array([10.0,7.0]) #this is the dataset -- perhaps I should have just put this inside the likelihood function\n",
    "chain_init={'length':np.array([10.5]), 'width':np.array([7.3]),'lnlike':np.array([0.])}\n",
    "chain_init['area']=chain_init['length']*chain_init['width']\n",
    "chain=chain_init\n",
    "list(chain)\n",
    "\n",
    "nsamp=10000\n",
    "total_reject=0\n",
    "for i in range(0,nsamp):\n",
    "    reject = chain_update(d,lnlike1,gen1,chain)\n",
    "    total_reject=total_reject+reject\n",
    "#    print 'reject =',reject\n",
    "accept_rate=1.-1.*total_reject/(1.*nsamp)\n",
    "accept_rate"
   ]
  },
  {
   "cell_type": "code",
   "execution_count": 107,
   "metadata": {
    "collapsed": true
   },
   "outputs": [],
   "source": [
    "import matplotlib.pyplot as plt"
   ]
  },
  {
   "cell_type": "code",
   "execution_count": 376,
   "metadata": {},
   "outputs": [
    {
     "data": {
      "image/png": "[encoded data removed]",
      "text/plain": [
       "<matplotlib.figure.Figure at 0x10f569350>"
      ]
     },
     "metadata": {},
     "output_type": "display_data"
    }
   ],
   "source": [
    "i = range(1,nsamp)\n",
    "\n",
    "plt.plot(i, chain['length'][i], label='length')\n",
    "plt.title(\"Trace Plot\")\n",
    "plt.legend()\n",
    "plt.show()"
   ]
  },
  {
   "cell_type": "code",
   "execution_count": 377,
   "metadata": {},
   "outputs": [
    {
     "data": {
      "image/png": "[encoded data removed]",
      "text/plain": [
       "<matplotlib.figure.Figure at 0x10e2478d0>"
      ]
     },
     "metadata": {},
     "output_type": "display_data"
    }
   ],
   "source": [
    "i = range(1,10000)\n",
    "\n",
    "plt.plot(i, chain['width'][i], label='width')\n",
    "plt.title(\"Trace Plot\")\n",
    "plt.legend()\n",
    "plt.show()"
   ]
  },
  {
   "cell_type": "code",
   "execution_count": 334,
   "metadata": {},
   "outputs": [
    {
     "data": {
      "image/png": "[encoded data removed]",
      "text/plain": [
       "<matplotlib.figure.Figure at 0x110a2bad0>"
      ]
     },
     "metadata": {},
     "output_type": "display_data"
    }
   ],
   "source": [
    "x=chain['width']\n",
    "plt.hist(x, bins=30)\n",
    "plt.ylabel('Number of samples')\n",
    "plt.show()"
   ]
  },
  {
   "cell_type": "code",
   "execution_count": 335,
   "metadata": {},
   "outputs": [
    {
     "data": {
      "image/png": "[encoded data removed]",
      "text/plain": [
       "<matplotlib.figure.Figure at 0x10f30bf90>"
      ]
     },
     "metadata": {},
     "output_type": "display_data"
    }
   ],
   "source": [
    "x=chain['length']\n",
    "plt.hist(x, bins=30)\n",
    "plt.ylabel('Number of samples')\n",
    "plt.show()"
   ]
  },
  {
   "cell_type": "code",
   "execution_count": 366,
   "metadata": {},
   "outputs": [],
   "source": [
    "d=np.array([7.0,10.0])\n",
    "step=0.25\n",
    "lmin=min(chain['length']) ; lmax=max(chain['length']) ; wmin=min(chain['width']) ; wmax=max(chain['width'])\n",
    "length=np.arange(lmin,lmax,step)\n",
    "width=np.arange(wmin,wmax,step)\n",
    "counts=np.zeros((width.size,length.size),long)\n",
    "for i in range(1,nsamp-1):\n",
    "    l=int((chain['length'][i]-lmin)/step)\n",
    "    w=int((chain['width'][i]-wmin)/step)\n",
    "    counts[w,l]+=1    "
   ]
  },
  {
   "cell_type": "code",
   "execution_count": 368,
   "metadata": {},
   "outputs": [
    {
     "data": {
      "image/png": "[encoded data removed]",
      "text/plain": [
       "<matplotlib.figure.Figure at 0x10f083e10>"
      ]
     },
     "metadata": {},
     "output_type": "display_data"
    }
   ],
   "source": [
    "import matplotlib.pyplot as plt\n",
    "import matplotlib.cm as cm\n",
    "\n",
    "fig = plt.figure()\n",
    "ax = fig.add_subplot(111)\n",
    "\n",
    "# Reversed Greys colourmap for filled contours\n",
    "cpf = ax.contourf(length,width,counts, 2, cmap=cm.Greys_r)\n",
    "# Set the colours of the contours and labels so they're white where the\n",
    "# contour fill is dark (Z < 0) and black where it's light (Z >= 0)\n",
    "colours = ['w' if level<0 else 'k' for level in cpf.levels]\n",
    "cp = ax.contour( length,width,counts, 2, colors=colours)\n",
    "ax.clabel(cp, fontsize=12, colors=colours)\n",
    "plt.show()"
   ]
  },
  {
   "cell_type": "code",
   "execution_count": null,
   "metadata": {
    "collapsed": true
   },
   "outputs": [],
   "source": []
  }
 ],
 "metadata": {
  "kernelspec": {
   "display_name": "Python 2",
   "language": "python",
   "name": "python2"
  },
  "language_info": {
   "codemirror_mode": {
    "name": "ipython",
    "version": 2
   },
   "file_extension": ".py",
   "mimetype": "text/x-python",
   "name": "python",
   "nbconvert_exporter": "python",
   "pygments_lexer": "ipython2",
   "version": "2.7.8"
  }
 },
 "nbformat": 4,
 "nbformat_minor": 2
}
